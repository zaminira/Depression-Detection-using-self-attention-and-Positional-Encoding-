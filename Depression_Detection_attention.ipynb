{
  "nbformat": 4,
  "nbformat_minor": 0,
  "metadata": {
    "colab": {
      "provenance": []
    },
    "kernelspec": {
      "name": "python3",
      "display_name": "Python 3"
    },
    "language_info": {
      "name": "python"
    },
    "widgets": {
      "application/vnd.jupyter.widget-state+json": {
        "6f2d2a2eb79c49a2a5af7aa86190a5df": {
          "model_module": "@jupyter-widgets/controls",
          "model_name": "VBoxModel",
          "model_module_version": "1.5.0",
          "state": {
            "_dom_classes": [],
            "_model_module": "@jupyter-widgets/controls",
            "_model_module_version": "1.5.0",
            "_model_name": "VBoxModel",
            "_view_count": null,
            "_view_module": "@jupyter-widgets/controls",
            "_view_module_version": "1.5.0",
            "_view_name": "VBoxView",
            "box_style": "",
            "children": [
              "IPY_MODEL_ccb95679ed82407ba09bebf88bd009c2",
              "IPY_MODEL_17dd961416654e51a93e2b7fd0c08c5d"
            ],
            "layout": "IPY_MODEL_34ed39a50cb24cea990702541b3931f3"
          }
        },
        "ccb95679ed82407ba09bebf88bd009c2": {
          "model_module": "@jupyter-widgets/controls",
          "model_name": "LabelModel",
          "model_module_version": "1.5.0",
          "state": {
            "_dom_classes": [],
            "_model_module": "@jupyter-widgets/controls",
            "_model_module_version": "1.5.0",
            "_model_name": "LabelModel",
            "_view_count": null,
            "_view_module": "@jupyter-widgets/controls",
            "_view_module_version": "1.5.0",
            "_view_name": "LabelView",
            "description": "",
            "description_tooltip": null,
            "layout": "IPY_MODEL_440c5d8236bd4d1bb03d8722e5fb787f",
            "placeholder": "​",
            "style": "IPY_MODEL_6268b52414f94802b7f5f5630525ceaa",
            "value": "47.320 MB of 47.320 MB uploaded (0.015 MB deduped)\r"
          }
        },
        "17dd961416654e51a93e2b7fd0c08c5d": {
          "model_module": "@jupyter-widgets/controls",
          "model_name": "FloatProgressModel",
          "model_module_version": "1.5.0",
          "state": {
            "_dom_classes": [],
            "_model_module": "@jupyter-widgets/controls",
            "_model_module_version": "1.5.0",
            "_model_name": "FloatProgressModel",
            "_view_count": null,
            "_view_module": "@jupyter-widgets/controls",
            "_view_module_version": "1.5.0",
            "_view_name": "ProgressView",
            "bar_style": "",
            "description": "",
            "description_tooltip": null,
            "layout": "IPY_MODEL_be07985e157c4828897991d7130194f8",
            "max": 1,
            "min": 0,
            "orientation": "horizontal",
            "style": "IPY_MODEL_5873da7b006e44549da5d86e32128e47",
            "value": 1
          }
        },
        "34ed39a50cb24cea990702541b3931f3": {
          "model_module": "@jupyter-widgets/base",
          "model_name": "LayoutModel",
          "model_module_version": "1.2.0",
          "state": {
            "_model_module": "@jupyter-widgets/base",
            "_model_module_version": "1.2.0",
            "_model_name": "LayoutModel",
            "_view_count": null,
            "_view_module": "@jupyter-widgets/base",
            "_view_module_version": "1.2.0",
            "_view_name": "LayoutView",
            "align_content": null,
            "align_items": null,
            "align_self": null,
            "border": null,
            "bottom": null,
            "display": null,
            "flex": null,
            "flex_flow": null,
            "grid_area": null,
            "grid_auto_columns": null,
            "grid_auto_flow": null,
            "grid_auto_rows": null,
            "grid_column": null,
            "grid_gap": null,
            "grid_row": null,
            "grid_template_areas": null,
            "grid_template_columns": null,
            "grid_template_rows": null,
            "height": null,
            "justify_content": null,
            "justify_items": null,
            "left": null,
            "margin": null,
            "max_height": null,
            "max_width": null,
            "min_height": null,
            "min_width": null,
            "object_fit": null,
            "object_position": null,
            "order": null,
            "overflow": null,
            "overflow_x": null,
            "overflow_y": null,
            "padding": null,
            "right": null,
            "top": null,
            "visibility": null,
            "width": null
          }
        },
        "440c5d8236bd4d1bb03d8722e5fb787f": {
          "model_module": "@jupyter-widgets/base",
          "model_name": "LayoutModel",
          "model_module_version": "1.2.0",
          "state": {
            "_model_module": "@jupyter-widgets/base",
            "_model_module_version": "1.2.0",
            "_model_name": "LayoutModel",
            "_view_count": null,
            "_view_module": "@jupyter-widgets/base",
            "_view_module_version": "1.2.0",
            "_view_name": "LayoutView",
            "align_content": null,
            "align_items": null,
            "align_self": null,
            "border": null,
            "bottom": null,
            "display": null,
            "flex": null,
            "flex_flow": null,
            "grid_area": null,
            "grid_auto_columns": null,
            "grid_auto_flow": null,
            "grid_auto_rows": null,
            "grid_column": null,
            "grid_gap": null,
            "grid_row": null,
            "grid_template_areas": null,
            "grid_template_columns": null,
            "grid_template_rows": null,
            "height": null,
            "justify_content": null,
            "justify_items": null,
            "left": null,
            "margin": null,
            "max_height": null,
            "max_width": null,
            "min_height": null,
            "min_width": null,
            "object_fit": null,
            "object_position": null,
            "order": null,
            "overflow": null,
            "overflow_x": null,
            "overflow_y": null,
            "padding": null,
            "right": null,
            "top": null,
            "visibility": null,
            "width": null
          }
        },
        "6268b52414f94802b7f5f5630525ceaa": {
          "model_module": "@jupyter-widgets/controls",
          "model_name": "DescriptionStyleModel",
          "model_module_version": "1.5.0",
          "state": {
            "_model_module": "@jupyter-widgets/controls",
            "_model_module_version": "1.5.0",
            "_model_name": "DescriptionStyleModel",
            "_view_count": null,
            "_view_module": "@jupyter-widgets/base",
            "_view_module_version": "1.2.0",
            "_view_name": "StyleView",
            "description_width": ""
          }
        },
        "be07985e157c4828897991d7130194f8": {
          "model_module": "@jupyter-widgets/base",
          "model_name": "LayoutModel",
          "model_module_version": "1.2.0",
          "state": {
            "_model_module": "@jupyter-widgets/base",
            "_model_module_version": "1.2.0",
            "_model_name": "LayoutModel",
            "_view_count": null,
            "_view_module": "@jupyter-widgets/base",
            "_view_module_version": "1.2.0",
            "_view_name": "LayoutView",
            "align_content": null,
            "align_items": null,
            "align_self": null,
            "border": null,
            "bottom": null,
            "display": null,
            "flex": null,
            "flex_flow": null,
            "grid_area": null,
            "grid_auto_columns": null,
            "grid_auto_flow": null,
            "grid_auto_rows": null,
            "grid_column": null,
            "grid_gap": null,
            "grid_row": null,
            "grid_template_areas": null,
            "grid_template_columns": null,
            "grid_template_rows": null,
            "height": null,
            "justify_content": null,
            "justify_items": null,
            "left": null,
            "margin": null,
            "max_height": null,
            "max_width": null,
            "min_height": null,
            "min_width": null,
            "object_fit": null,
            "object_position": null,
            "order": null,
            "overflow": null,
            "overflow_x": null,
            "overflow_y": null,
            "padding": null,
            "right": null,
            "top": null,
            "visibility": null,
            "width": null
          }
        },
        "5873da7b006e44549da5d86e32128e47": {
          "model_module": "@jupyter-widgets/controls",
          "model_name": "ProgressStyleModel",
          "model_module_version": "1.5.0",
          "state": {
            "_model_module": "@jupyter-widgets/controls",
            "_model_module_version": "1.5.0",
            "_model_name": "ProgressStyleModel",
            "_view_count": null,
            "_view_module": "@jupyter-widgets/base",
            "_view_module_version": "1.2.0",
            "_view_name": "StyleView",
            "bar_color": null,
            "description_width": ""
          }
        }
      }
    }
  },
  "cells": [
    {
      "cell_type": "code",
      "execution_count": null,
      "metadata": {
        "colab": {
          "base_uri": "https://localhost:8080/"
        },
        "id": "yF26IP3XPmar",
        "outputId": "1ba33b40-7a6b-4b2b-b2bd-051d5d850a65"
      },
      "outputs": [
        {
          "output_type": "stream",
          "name": "stdout",
          "text": [
            "Mounted at /content/drive\n"
          ]
        }
      ],
      "source": [
        "from google.colab import drive\n",
        "drive.mount('/content/drive')"
      ]
    },
    {
      "cell_type": "code",
      "source": [
        "import numpy as np\n",
        "import pandas as pd\n",
        "import matplotlib.pyplot as plt\n",
        "%matplotlib inline\n",
        "import seaborn as sns\n",
        "\n",
        "import string\n",
        "import nltk\n",
        "import re\n",
        "\n",
        "# preprocessing\n",
        "from gensim.models import KeyedVectors\n",
        "from tensorflow.keras.preprocessing.text import Tokenizer\n",
        "from tensorflow.keras.preprocessing.sequence import pad_sequences\n",
        "from sklearn.model_selection import train_test_split\n",
        "\n",
        "from tensorflow.keras.models import Sequential , Model\n",
        "from tensorflow.keras.layers import Input , Embedding, Conv1D , MaxPooling1D, Dropout, LSTM, Dense, Activation\n",
        "from tensorflow.keras.callbacks import EarlyStopping, ModelCheckpoint"
      ],
      "metadata": {
        "id": "weQD-7wCPyZh"
      },
      "execution_count": null,
      "outputs": []
    },
    {
      "cell_type": "code",
      "source": [
        "nltk.download('stopwords')\n",
        "nltk.download('punkt')\n",
        "from nltk.corpus import stopwords\n",
        "from nltk import PorterStemmer"
      ],
      "metadata": {
        "colab": {
          "base_uri": "https://localhost:8080/"
        },
        "id": "Kkl4t8rmQJPx",
        "outputId": "f583f10f-7c9a-480d-ac7a-0c9e819dd5bd"
      },
      "execution_count": null,
      "outputs": [
        {
          "output_type": "stream",
          "name": "stderr",
          "text": [
            "[nltk_data] Downloading package stopwords to /root/nltk_data...\n",
            "[nltk_data]   Unzipping corpora/stopwords.zip.\n",
            "[nltk_data] Downloading package punkt to /root/nltk_data...\n",
            "[nltk_data]   Unzipping tokenizers/punkt.zip.\n"
          ]
        }
      ]
    },
    {
      "cell_type": "code",
      "source": [
        "# Load the data\n",
        "DEPRESSIVE_TWEETS_CSV = '/content/drive/MyDrive/Depressing social post detection/depressive_tweets.csv'\n",
        "RANDOM_TWEETS_CSV = '/content/drive/MyDrive/Depressing social post detection/Suicide_Detection.csv'\n",
        "EMBEDDING_FILE = '/content/drive/MyDrive/Depressing social post detection/GoogleNews-vectors-negative300.bin'\n",
        "# the google new vector .. has word vectors of 300DIM for words. Trained on massive amount of google news."
      ],
      "metadata": {
        "id": "rJZa3iHESmm8"
      },
      "execution_count": null,
      "outputs": []
    },
    {
      "cell_type": "code",
      "source": [
        "TWEETS = pd.read_csv(RANDOM_TWEETS_CSV , nrows=5000 , usecols = range(1,3))"
      ],
      "metadata": {
        "id": "GJJjdBwvSw8G"
      },
      "execution_count": null,
      "outputs": []
    },
    {
      "cell_type": "code",
      "source": [
        "TWEETS.head()"
      ],
      "metadata": {
        "colab": {
          "base_uri": "https://localhost:8080/",
          "height": 206
        },
        "id": "009fLWI7Ths5",
        "outputId": "35fc0a5e-cc29-4261-ff85-c43f69fb8ff8"
      },
      "execution_count": null,
      "outputs": [
        {
          "output_type": "execute_result",
          "data": {
            "text/plain": [
              "                                                text        class\n",
              "0  Ex Wife Threatening SuicideRecently I left my ...      suicide\n",
              "1  Am I weird I don't get affected by compliments...  non-suicide\n",
              "2  Finally 2020 is almost over... So I can never ...  non-suicide\n",
              "3          i need helpjust help me im crying so hard      suicide\n",
              "4  I’m so lostHello, my name is Adam (16) and I’v...      suicide"
            ],
            "text/html": [
              "\n",
              "  <div id=\"df-57f69cc1-a6b9-4236-9b17-88a1f6666fce\" class=\"colab-df-container\">\n",
              "    <div>\n",
              "<style scoped>\n",
              "    .dataframe tbody tr th:only-of-type {\n",
              "        vertical-align: middle;\n",
              "    }\n",
              "\n",
              "    .dataframe tbody tr th {\n",
              "        vertical-align: top;\n",
              "    }\n",
              "\n",
              "    .dataframe thead th {\n",
              "        text-align: right;\n",
              "    }\n",
              "</style>\n",
              "<table border=\"1\" class=\"dataframe\">\n",
              "  <thead>\n",
              "    <tr style=\"text-align: right;\">\n",
              "      <th></th>\n",
              "      <th>text</th>\n",
              "      <th>class</th>\n",
              "    </tr>\n",
              "  </thead>\n",
              "  <tbody>\n",
              "    <tr>\n",
              "      <th>0</th>\n",
              "      <td>Ex Wife Threatening SuicideRecently I left my ...</td>\n",
              "      <td>suicide</td>\n",
              "    </tr>\n",
              "    <tr>\n",
              "      <th>1</th>\n",
              "      <td>Am I weird I don't get affected by compliments...</td>\n",
              "      <td>non-suicide</td>\n",
              "    </tr>\n",
              "    <tr>\n",
              "      <th>2</th>\n",
              "      <td>Finally 2020 is almost over... So I can never ...</td>\n",
              "      <td>non-suicide</td>\n",
              "    </tr>\n",
              "    <tr>\n",
              "      <th>3</th>\n",
              "      <td>i need helpjust help me im crying so hard</td>\n",
              "      <td>suicide</td>\n",
              "    </tr>\n",
              "    <tr>\n",
              "      <th>4</th>\n",
              "      <td>I’m so lostHello, my name is Adam (16) and I’v...</td>\n",
              "      <td>suicide</td>\n",
              "    </tr>\n",
              "  </tbody>\n",
              "</table>\n",
              "</div>\n",
              "    <div class=\"colab-df-buttons\">\n",
              "\n",
              "  <div class=\"colab-df-container\">\n",
              "    <button class=\"colab-df-convert\" onclick=\"convertToInteractive('df-57f69cc1-a6b9-4236-9b17-88a1f6666fce')\"\n",
              "            title=\"Convert this dataframe to an interactive table.\"\n",
              "            style=\"display:none;\">\n",
              "\n",
              "  <svg xmlns=\"http://www.w3.org/2000/svg\" height=\"24px\" viewBox=\"0 -960 960 960\">\n",
              "    <path d=\"M120-120v-720h720v720H120Zm60-500h600v-160H180v160Zm220 220h160v-160H400v160Zm0 220h160v-160H400v160ZM180-400h160v-160H180v160Zm440 0h160v-160H620v160ZM180-180h160v-160H180v160Zm440 0h160v-160H620v160Z\"/>\n",
              "  </svg>\n",
              "    </button>\n",
              "\n",
              "  <style>\n",
              "    .colab-df-container {\n",
              "      display:flex;\n",
              "      gap: 12px;\n",
              "    }\n",
              "\n",
              "    .colab-df-convert {\n",
              "      background-color: #E8F0FE;\n",
              "      border: none;\n",
              "      border-radius: 50%;\n",
              "      cursor: pointer;\n",
              "      display: none;\n",
              "      fill: #1967D2;\n",
              "      height: 32px;\n",
              "      padding: 0 0 0 0;\n",
              "      width: 32px;\n",
              "    }\n",
              "\n",
              "    .colab-df-convert:hover {\n",
              "      background-color: #E2EBFA;\n",
              "      box-shadow: 0px 1px 2px rgba(60, 64, 67, 0.3), 0px 1px 3px 1px rgba(60, 64, 67, 0.15);\n",
              "      fill: #174EA6;\n",
              "    }\n",
              "\n",
              "    .colab-df-buttons div {\n",
              "      margin-bottom: 4px;\n",
              "    }\n",
              "\n",
              "    [theme=dark] .colab-df-convert {\n",
              "      background-color: #3B4455;\n",
              "      fill: #D2E3FC;\n",
              "    }\n",
              "\n",
              "    [theme=dark] .colab-df-convert:hover {\n",
              "      background-color: #434B5C;\n",
              "      box-shadow: 0px 1px 3px 1px rgba(0, 0, 0, 0.15);\n",
              "      filter: drop-shadow(0px 1px 2px rgba(0, 0, 0, 0.3));\n",
              "      fill: #FFFFFF;\n",
              "    }\n",
              "  </style>\n",
              "\n",
              "    <script>\n",
              "      const buttonEl =\n",
              "        document.querySelector('#df-57f69cc1-a6b9-4236-9b17-88a1f6666fce button.colab-df-convert');\n",
              "      buttonEl.style.display =\n",
              "        google.colab.kernel.accessAllowed ? 'block' : 'none';\n",
              "\n",
              "      async function convertToInteractive(key) {\n",
              "        const element = document.querySelector('#df-57f69cc1-a6b9-4236-9b17-88a1f6666fce');\n",
              "        const dataTable =\n",
              "          await google.colab.kernel.invokeFunction('convertToInteractive',\n",
              "                                                    [key], {});\n",
              "        if (!dataTable) return;\n",
              "\n",
              "        const docLinkHtml = 'Like what you see? Visit the ' +\n",
              "          '<a target=\"_blank\" href=https://colab.research.google.com/notebooks/data_table.ipynb>data table notebook</a>'\n",
              "          + ' to learn more about interactive tables.';\n",
              "        element.innerHTML = '';\n",
              "        dataTable['output_type'] = 'display_data';\n",
              "        await google.colab.output.renderOutput(dataTable, element);\n",
              "        const docLink = document.createElement('div');\n",
              "        docLink.innerHTML = docLinkHtml;\n",
              "        element.appendChild(docLink);\n",
              "      }\n",
              "    </script>\n",
              "  </div>\n",
              "\n",
              "\n",
              "<div id=\"df-a22b2963-6df7-4ae7-a97a-eee45aef9545\">\n",
              "  <button class=\"colab-df-quickchart\" onclick=\"quickchart('df-a22b2963-6df7-4ae7-a97a-eee45aef9545')\"\n",
              "            title=\"Suggest charts\"\n",
              "            style=\"display:none;\">\n",
              "\n",
              "<svg xmlns=\"http://www.w3.org/2000/svg\" height=\"24px\"viewBox=\"0 0 24 24\"\n",
              "     width=\"24px\">\n",
              "    <g>\n",
              "        <path d=\"M19 3H5c-1.1 0-2 .9-2 2v14c0 1.1.9 2 2 2h14c1.1 0 2-.9 2-2V5c0-1.1-.9-2-2-2zM9 17H7v-7h2v7zm4 0h-2V7h2v10zm4 0h-2v-4h2v4z\"/>\n",
              "    </g>\n",
              "</svg>\n",
              "  </button>\n",
              "\n",
              "<style>\n",
              "  .colab-df-quickchart {\n",
              "      --bg-color: #E8F0FE;\n",
              "      --fill-color: #1967D2;\n",
              "      --hover-bg-color: #E2EBFA;\n",
              "      --hover-fill-color: #174EA6;\n",
              "      --disabled-fill-color: #AAA;\n",
              "      --disabled-bg-color: #DDD;\n",
              "  }\n",
              "\n",
              "  [theme=dark] .colab-df-quickchart {\n",
              "      --bg-color: #3B4455;\n",
              "      --fill-color: #D2E3FC;\n",
              "      --hover-bg-color: #434B5C;\n",
              "      --hover-fill-color: #FFFFFF;\n",
              "      --disabled-bg-color: #3B4455;\n",
              "      --disabled-fill-color: #666;\n",
              "  }\n",
              "\n",
              "  .colab-df-quickchart {\n",
              "    background-color: var(--bg-color);\n",
              "    border: none;\n",
              "    border-radius: 50%;\n",
              "    cursor: pointer;\n",
              "    display: none;\n",
              "    fill: var(--fill-color);\n",
              "    height: 32px;\n",
              "    padding: 0;\n",
              "    width: 32px;\n",
              "  }\n",
              "\n",
              "  .colab-df-quickchart:hover {\n",
              "    background-color: var(--hover-bg-color);\n",
              "    box-shadow: 0 1px 2px rgba(60, 64, 67, 0.3), 0 1px 3px 1px rgba(60, 64, 67, 0.15);\n",
              "    fill: var(--button-hover-fill-color);\n",
              "  }\n",
              "\n",
              "  .colab-df-quickchart-complete:disabled,\n",
              "  .colab-df-quickchart-complete:disabled:hover {\n",
              "    background-color: var(--disabled-bg-color);\n",
              "    fill: var(--disabled-fill-color);\n",
              "    box-shadow: none;\n",
              "  }\n",
              "\n",
              "  .colab-df-spinner {\n",
              "    border: 2px solid var(--fill-color);\n",
              "    border-color: transparent;\n",
              "    border-bottom-color: var(--fill-color);\n",
              "    animation:\n",
              "      spin 1s steps(1) infinite;\n",
              "  }\n",
              "\n",
              "  @keyframes spin {\n",
              "    0% {\n",
              "      border-color: transparent;\n",
              "      border-bottom-color: var(--fill-color);\n",
              "      border-left-color: var(--fill-color);\n",
              "    }\n",
              "    20% {\n",
              "      border-color: transparent;\n",
              "      border-left-color: var(--fill-color);\n",
              "      border-top-color: var(--fill-color);\n",
              "    }\n",
              "    30% {\n",
              "      border-color: transparent;\n",
              "      border-left-color: var(--fill-color);\n",
              "      border-top-color: var(--fill-color);\n",
              "      border-right-color: var(--fill-color);\n",
              "    }\n",
              "    40% {\n",
              "      border-color: transparent;\n",
              "      border-right-color: var(--fill-color);\n",
              "      border-top-color: var(--fill-color);\n",
              "    }\n",
              "    60% {\n",
              "      border-color: transparent;\n",
              "      border-right-color: var(--fill-color);\n",
              "    }\n",
              "    80% {\n",
              "      border-color: transparent;\n",
              "      border-right-color: var(--fill-color);\n",
              "      border-bottom-color: var(--fill-color);\n",
              "    }\n",
              "    90% {\n",
              "      border-color: transparent;\n",
              "      border-bottom-color: var(--fill-color);\n",
              "    }\n",
              "  }\n",
              "</style>\n",
              "\n",
              "  <script>\n",
              "    async function quickchart(key) {\n",
              "      const quickchartButtonEl =\n",
              "        document.querySelector('#' + key + ' button');\n",
              "      quickchartButtonEl.disabled = true;  // To prevent multiple clicks.\n",
              "      quickchartButtonEl.classList.add('colab-df-spinner');\n",
              "      try {\n",
              "        const charts = await google.colab.kernel.invokeFunction(\n",
              "            'suggestCharts', [key], {});\n",
              "      } catch (error) {\n",
              "        console.error('Error during call to suggestCharts:', error);\n",
              "      }\n",
              "      quickchartButtonEl.classList.remove('colab-df-spinner');\n",
              "      quickchartButtonEl.classList.add('colab-df-quickchart-complete');\n",
              "    }\n",
              "    (() => {\n",
              "      let quickchartButtonEl =\n",
              "        document.querySelector('#df-a22b2963-6df7-4ae7-a97a-eee45aef9545 button');\n",
              "      quickchartButtonEl.style.display =\n",
              "        google.colab.kernel.accessAllowed ? 'block' : 'none';\n",
              "    })();\n",
              "  </script>\n",
              "</div>\n",
              "\n",
              "    </div>\n",
              "  </div>\n"
            ],
            "application/vnd.google.colaboratory.intrinsic+json": {
              "type": "dataframe",
              "variable_name": "TWEETS",
              "summary": "{\n  \"name\": \"TWEETS\",\n  \"rows\": 5000,\n  \"fields\": [\n    {\n      \"column\": \"text\",\n      \"properties\": {\n        \"dtype\": \"string\",\n        \"num_unique_values\": 5000,\n        \"samples\": [\n          \"A conversation we could both benefit from. I myself am not suicidal. But I have been before. \\nI'm here to talk to whoever would love to talk to someone.  \\nI'm a 22 year old female who has been blessed with good opportunities in life. I had a terrible bout in high school where I felt I went insane. I felt I had no control over my emotions, thoughts, and at times my own actions. I was put on medication and was almost sure I self-diagnosed myself with BPD. Fast forward a few years and I quit the meds and am mentally stable, even truly happy. \\n\\nBut the last month or two things have been dwindling it feels. I have always been a daily bud smoker, but my alcohol consumption upped and I'm feeling best when asleep. This morning I woke up feeling empty, nothing. I couldn't get myself out of bed and had to call into work. I spent all day sleeping because being asleep is almost like not being alive... a small coma. I wouldn't consider suicide these days, but also some days I really wouldn't mind not being alive. \\n\\nI'm a wonderful listener and a very open person. If you feel the need to speak with someone, I would love to give you company and support. \",\n          \"Got a DUI last night and will probably lose my job.I've been up for 36 hours and have been talking to lawyers all day. I got pulled over for speeding and my friends in the car were visibly drunk which started the whole process. The whole time I was in jail all I could think about was: how could I kill myself in jail because the rest of my life is pretty much fucked now. I got out after I had a low enough BAC and the lawyers I talked to said I'll lose my license. Without a license I can't get to work, and without work I can't live. Why not get it over with before all that hassle happens?\",\n          \"I have to survive until September 10thI want to die on World Suicide prevention, I am a contradiction let me die on the day that supposed to stop me death. Death stops a persons growth, so I can truly craft the image I want to. I have a years time to do so\"\n        ],\n        \"semantic_type\": \"\",\n        \"description\": \"\"\n      }\n    },\n    {\n      \"column\": \"class\",\n      \"properties\": {\n        \"dtype\": \"category\",\n        \"num_unique_values\": 2,\n        \"samples\": [\n          \"non-suicide\",\n          \"suicide\"\n        ],\n        \"semantic_type\": \"\",\n        \"description\": \"\"\n      }\n    }\n  ]\n}"
            }
          },
          "metadata": {},
          "execution_count": 22
        }
      ]
    },
    {
      "cell_type": "code",
      "source": [
        "TWEETS.groupby('class').describe()"
      ],
      "metadata": {
        "colab": {
          "base_uri": "https://localhost:8080/",
          "height": 175
        },
        "id": "5ZHt4hO1ToK1",
        "outputId": "76ce1532-c43c-482c-fa3f-f66c735a00a1"
      },
      "execution_count": null,
      "outputs": [
        {
          "output_type": "execute_result",
          "data": {
            "text/plain": [
              "             text                                                            \\\n",
              "            count unique                                                top   \n",
              "class                                                                         \n",
              "non-suicide  2531   2531  Am I weird I don't get affected by compliments...   \n",
              "suicide      2469   2469  Ex Wife Threatening SuicideRecently I left my ...   \n",
              "\n",
              "                  \n",
              "            freq  \n",
              "class             \n",
              "non-suicide    1  \n",
              "suicide        1  "
            ],
            "text/html": [
              "\n",
              "  <div id=\"df-67784a9b-8f6e-4bb4-9164-345a40196e8f\" class=\"colab-df-container\">\n",
              "    <div>\n",
              "<style scoped>\n",
              "    .dataframe tbody tr th:only-of-type {\n",
              "        vertical-align: middle;\n",
              "    }\n",
              "\n",
              "    .dataframe tbody tr th {\n",
              "        vertical-align: top;\n",
              "    }\n",
              "\n",
              "    .dataframe thead tr th {\n",
              "        text-align: left;\n",
              "    }\n",
              "\n",
              "    .dataframe thead tr:last-of-type th {\n",
              "        text-align: right;\n",
              "    }\n",
              "</style>\n",
              "<table border=\"1\" class=\"dataframe\">\n",
              "  <thead>\n",
              "    <tr>\n",
              "      <th></th>\n",
              "      <th colspan=\"4\" halign=\"left\">text</th>\n",
              "    </tr>\n",
              "    <tr>\n",
              "      <th></th>\n",
              "      <th>count</th>\n",
              "      <th>unique</th>\n",
              "      <th>top</th>\n",
              "      <th>freq</th>\n",
              "    </tr>\n",
              "    <tr>\n",
              "      <th>class</th>\n",
              "      <th></th>\n",
              "      <th></th>\n",
              "      <th></th>\n",
              "      <th></th>\n",
              "    </tr>\n",
              "  </thead>\n",
              "  <tbody>\n",
              "    <tr>\n",
              "      <th>non-suicide</th>\n",
              "      <td>2531</td>\n",
              "      <td>2531</td>\n",
              "      <td>Am I weird I don't get affected by compliments...</td>\n",
              "      <td>1</td>\n",
              "    </tr>\n",
              "    <tr>\n",
              "      <th>suicide</th>\n",
              "      <td>2469</td>\n",
              "      <td>2469</td>\n",
              "      <td>Ex Wife Threatening SuicideRecently I left my ...</td>\n",
              "      <td>1</td>\n",
              "    </tr>\n",
              "  </tbody>\n",
              "</table>\n",
              "</div>\n",
              "    <div class=\"colab-df-buttons\">\n",
              "\n",
              "  <div class=\"colab-df-container\">\n",
              "    <button class=\"colab-df-convert\" onclick=\"convertToInteractive('df-67784a9b-8f6e-4bb4-9164-345a40196e8f')\"\n",
              "            title=\"Convert this dataframe to an interactive table.\"\n",
              "            style=\"display:none;\">\n",
              "\n",
              "  <svg xmlns=\"http://www.w3.org/2000/svg\" height=\"24px\" viewBox=\"0 -960 960 960\">\n",
              "    <path d=\"M120-120v-720h720v720H120Zm60-500h600v-160H180v160Zm220 220h160v-160H400v160Zm0 220h160v-160H400v160ZM180-400h160v-160H180v160Zm440 0h160v-160H620v160ZM180-180h160v-160H180v160Zm440 0h160v-160H620v160Z\"/>\n",
              "  </svg>\n",
              "    </button>\n",
              "\n",
              "  <style>\n",
              "    .colab-df-container {\n",
              "      display:flex;\n",
              "      gap: 12px;\n",
              "    }\n",
              "\n",
              "    .colab-df-convert {\n",
              "      background-color: #E8F0FE;\n",
              "      border: none;\n",
              "      border-radius: 50%;\n",
              "      cursor: pointer;\n",
              "      display: none;\n",
              "      fill: #1967D2;\n",
              "      height: 32px;\n",
              "      padding: 0 0 0 0;\n",
              "      width: 32px;\n",
              "    }\n",
              "\n",
              "    .colab-df-convert:hover {\n",
              "      background-color: #E2EBFA;\n",
              "      box-shadow: 0px 1px 2px rgba(60, 64, 67, 0.3), 0px 1px 3px 1px rgba(60, 64, 67, 0.15);\n",
              "      fill: #174EA6;\n",
              "    }\n",
              "\n",
              "    .colab-df-buttons div {\n",
              "      margin-bottom: 4px;\n",
              "    }\n",
              "\n",
              "    [theme=dark] .colab-df-convert {\n",
              "      background-color: #3B4455;\n",
              "      fill: #D2E3FC;\n",
              "    }\n",
              "\n",
              "    [theme=dark] .colab-df-convert:hover {\n",
              "      background-color: #434B5C;\n",
              "      box-shadow: 0px 1px 3px 1px rgba(0, 0, 0, 0.15);\n",
              "      filter: drop-shadow(0px 1px 2px rgba(0, 0, 0, 0.3));\n",
              "      fill: #FFFFFF;\n",
              "    }\n",
              "  </style>\n",
              "\n",
              "    <script>\n",
              "      const buttonEl =\n",
              "        document.querySelector('#df-67784a9b-8f6e-4bb4-9164-345a40196e8f button.colab-df-convert');\n",
              "      buttonEl.style.display =\n",
              "        google.colab.kernel.accessAllowed ? 'block' : 'none';\n",
              "\n",
              "      async function convertToInteractive(key) {\n",
              "        const element = document.querySelector('#df-67784a9b-8f6e-4bb4-9164-345a40196e8f');\n",
              "        const dataTable =\n",
              "          await google.colab.kernel.invokeFunction('convertToInteractive',\n",
              "                                                    [key], {});\n",
              "        if (!dataTable) return;\n",
              "\n",
              "        const docLinkHtml = 'Like what you see? Visit the ' +\n",
              "          '<a target=\"_blank\" href=https://colab.research.google.com/notebooks/data_table.ipynb>data table notebook</a>'\n",
              "          + ' to learn more about interactive tables.';\n",
              "        element.innerHTML = '';\n",
              "        dataTable['output_type'] = 'display_data';\n",
              "        await google.colab.output.renderOutput(dataTable, element);\n",
              "        const docLink = document.createElement('div');\n",
              "        docLink.innerHTML = docLinkHtml;\n",
              "        element.appendChild(docLink);\n",
              "      }\n",
              "    </script>\n",
              "  </div>\n",
              "\n",
              "\n",
              "<div id=\"df-e46164e3-e173-4a42-bb78-9c38e2793794\">\n",
              "  <button class=\"colab-df-quickchart\" onclick=\"quickchart('df-e46164e3-e173-4a42-bb78-9c38e2793794')\"\n",
              "            title=\"Suggest charts\"\n",
              "            style=\"display:none;\">\n",
              "\n",
              "<svg xmlns=\"http://www.w3.org/2000/svg\" height=\"24px\"viewBox=\"0 0 24 24\"\n",
              "     width=\"24px\">\n",
              "    <g>\n",
              "        <path d=\"M19 3H5c-1.1 0-2 .9-2 2v14c0 1.1.9 2 2 2h14c1.1 0 2-.9 2-2V5c0-1.1-.9-2-2-2zM9 17H7v-7h2v7zm4 0h-2V7h2v10zm4 0h-2v-4h2v4z\"/>\n",
              "    </g>\n",
              "</svg>\n",
              "  </button>\n",
              "\n",
              "<style>\n",
              "  .colab-df-quickchart {\n",
              "      --bg-color: #E8F0FE;\n",
              "      --fill-color: #1967D2;\n",
              "      --hover-bg-color: #E2EBFA;\n",
              "      --hover-fill-color: #174EA6;\n",
              "      --disabled-fill-color: #AAA;\n",
              "      --disabled-bg-color: #DDD;\n",
              "  }\n",
              "\n",
              "  [theme=dark] .colab-df-quickchart {\n",
              "      --bg-color: #3B4455;\n",
              "      --fill-color: #D2E3FC;\n",
              "      --hover-bg-color: #434B5C;\n",
              "      --hover-fill-color: #FFFFFF;\n",
              "      --disabled-bg-color: #3B4455;\n",
              "      --disabled-fill-color: #666;\n",
              "  }\n",
              "\n",
              "  .colab-df-quickchart {\n",
              "    background-color: var(--bg-color);\n",
              "    border: none;\n",
              "    border-radius: 50%;\n",
              "    cursor: pointer;\n",
              "    display: none;\n",
              "    fill: var(--fill-color);\n",
              "    height: 32px;\n",
              "    padding: 0;\n",
              "    width: 32px;\n",
              "  }\n",
              "\n",
              "  .colab-df-quickchart:hover {\n",
              "    background-color: var(--hover-bg-color);\n",
              "    box-shadow: 0 1px 2px rgba(60, 64, 67, 0.3), 0 1px 3px 1px rgba(60, 64, 67, 0.15);\n",
              "    fill: var(--button-hover-fill-color);\n",
              "  }\n",
              "\n",
              "  .colab-df-quickchart-complete:disabled,\n",
              "  .colab-df-quickchart-complete:disabled:hover {\n",
              "    background-color: var(--disabled-bg-color);\n",
              "    fill: var(--disabled-fill-color);\n",
              "    box-shadow: none;\n",
              "  }\n",
              "\n",
              "  .colab-df-spinner {\n",
              "    border: 2px solid var(--fill-color);\n",
              "    border-color: transparent;\n",
              "    border-bottom-color: var(--fill-color);\n",
              "    animation:\n",
              "      spin 1s steps(1) infinite;\n",
              "  }\n",
              "\n",
              "  @keyframes spin {\n",
              "    0% {\n",
              "      border-color: transparent;\n",
              "      border-bottom-color: var(--fill-color);\n",
              "      border-left-color: var(--fill-color);\n",
              "    }\n",
              "    20% {\n",
              "      border-color: transparent;\n",
              "      border-left-color: var(--fill-color);\n",
              "      border-top-color: var(--fill-color);\n",
              "    }\n",
              "    30% {\n",
              "      border-color: transparent;\n",
              "      border-left-color: var(--fill-color);\n",
              "      border-top-color: var(--fill-color);\n",
              "      border-right-color: var(--fill-color);\n",
              "    }\n",
              "    40% {\n",
              "      border-color: transparent;\n",
              "      border-right-color: var(--fill-color);\n",
              "      border-top-color: var(--fill-color);\n",
              "    }\n",
              "    60% {\n",
              "      border-color: transparent;\n",
              "      border-right-color: var(--fill-color);\n",
              "    }\n",
              "    80% {\n",
              "      border-color: transparent;\n",
              "      border-right-color: var(--fill-color);\n",
              "      border-bottom-color: var(--fill-color);\n",
              "    }\n",
              "    90% {\n",
              "      border-color: transparent;\n",
              "      border-bottom-color: var(--fill-color);\n",
              "    }\n",
              "  }\n",
              "</style>\n",
              "\n",
              "  <script>\n",
              "    async function quickchart(key) {\n",
              "      const quickchartButtonEl =\n",
              "        document.querySelector('#' + key + ' button');\n",
              "      quickchartButtonEl.disabled = true;  // To prevent multiple clicks.\n",
              "      quickchartButtonEl.classList.add('colab-df-spinner');\n",
              "      try {\n",
              "        const charts = await google.colab.kernel.invokeFunction(\n",
              "            'suggestCharts', [key], {});\n",
              "      } catch (error) {\n",
              "        console.error('Error during call to suggestCharts:', error);\n",
              "      }\n",
              "      quickchartButtonEl.classList.remove('colab-df-spinner');\n",
              "      quickchartButtonEl.classList.add('colab-df-quickchart-complete');\n",
              "    }\n",
              "    (() => {\n",
              "      let quickchartButtonEl =\n",
              "        document.querySelector('#df-e46164e3-e173-4a42-bb78-9c38e2793794 button');\n",
              "      quickchartButtonEl.style.display =\n",
              "        google.colab.kernel.accessAllowed ? 'block' : 'none';\n",
              "    })();\n",
              "  </script>\n",
              "</div>\n",
              "\n",
              "    </div>\n",
              "  </div>\n"
            ],
            "application/vnd.google.colaboratory.intrinsic+json": {
              "type": "dataframe",
              "summary": "{\n  \"name\": \"TWEETS\",\n  \"rows\": 2,\n  \"fields\": [\n    {\n      \"column\": [\n        \"class\",\n        \"\"\n      ],\n      \"properties\": {\n        \"dtype\": \"string\",\n        \"num_unique_values\": 2,\n        \"samples\": [\n          \"suicide\",\n          \"non-suicide\"\n        ],\n        \"semantic_type\": \"\",\n        \"description\": \"\"\n      }\n    },\n    {\n      \"column\": [\n        \"text\",\n        \"count\"\n      ],\n      \"properties\": {\n        \"dtype\": \"date\",\n        \"min\": \"2469\",\n        \"max\": \"2531\",\n        \"num_unique_values\": 2,\n        \"samples\": [\n          \"2469\",\n          \"2531\"\n        ],\n        \"semantic_type\": \"\",\n        \"description\": \"\"\n      }\n    },\n    {\n      \"column\": [\n        \"text\",\n        \"unique\"\n      ],\n      \"properties\": {\n        \"dtype\": \"date\",\n        \"min\": 2469,\n        \"max\": 2531,\n        \"num_unique_values\": 2,\n        \"samples\": [\n          2469,\n          2531\n        ],\n        \"semantic_type\": \"\",\n        \"description\": \"\"\n      }\n    },\n    {\n      \"column\": [\n        \"text\",\n        \"top\"\n      ],\n      \"properties\": {\n        \"dtype\": \"string\",\n        \"num_unique_values\": 2,\n        \"samples\": [\n          \"Ex Wife Threatening SuicideRecently I left my wife for good because she has cheated on me twice and lied to me so much that I have decided to refuse to go back to her. As of a few days ago, she began threatening suicide. I have tirelessly spent these paat few days talking her out of it and she keeps hesitating because she wants to believe I'll come back. I know a lot of people will threaten this in order to get their way, but what happens if she really does? What do I do and how am I supposed to handle her death on my hands? I still love my wife but I cannot deal with getting cheated on again and constantly feeling insecure. I'm worried today may be the day she does it and I hope so much it doesn't happen.\",\n          \"Am I weird I don't get affected by compliments if it's coming from someone I know irl but I feel really good when internet strangers do it\"\n        ],\n        \"semantic_type\": \"\",\n        \"description\": \"\"\n      }\n    },\n    {\n      \"column\": [\n        \"text\",\n        \"freq\"\n      ],\n      \"properties\": {\n        \"dtype\": \"date\",\n        \"min\": \"1\",\n        \"max\": \"1\",\n        \"num_unique_values\": 1,\n        \"samples\": [\n          \"1\"\n        ],\n        \"semantic_type\": \"\",\n        \"description\": \"\"\n      }\n    }\n  ]\n}"
            }
          },
          "metadata": {},
          "execution_count": 23
        }
      ]
    },
    {
      "cell_type": "code",
      "source": [
        "# Let's get the average seq length to be able to set a reasonable max_seq_length\n",
        "TWEETS['length'] = TWEETS['text'].apply(len)"
      ],
      "metadata": {
        "id": "By5Gq-X1USbz"
      },
      "execution_count": null,
      "outputs": []
    },
    {
      "cell_type": "code",
      "source": [
        "sns.boxplot(x = 'class' , y = 'length' , data=TWEETS)"
      ],
      "metadata": {
        "colab": {
          "base_uri": "https://localhost:8080/",
          "height": 467
        },
        "id": "EEOHYxGPUlgm",
        "outputId": "82359c6b-2430-4069-fab5-35cda74d4008"
      },
      "execution_count": null,
      "outputs": [
        {
          "output_type": "execute_result",
          "data": {
            "text/plain": [
              "<Axes: xlabel='class', ylabel='length'>"
            ]
          },
          "metadata": {},
          "execution_count": 25
        },
        {
          "output_type": "display_data",
          "data": {
            "text/plain": [
              "<Figure size 640x480 with 1 Axes>"
            ],
            "image/png": "[encoded data removed]"
          },
          "metadata": {}
        }
      ]
    },
    {
      "cell_type": "code",
      "source": [
        "TWEETS.groupby('class')['length'].median()"
      ],
      "metadata": {
        "colab": {
          "base_uri": "https://localhost:8080/"
        },
        "id": "gJOq1Q46Uw6O",
        "outputId": "98f6526c-4af5-4f58-f65b-847bc081afab"
      },
      "execution_count": null,
      "outputs": [
        {
          "output_type": "execute_result",
          "data": {
            "text/plain": [
              "class\n",
              "non-suicide    168.0\n",
              "suicide        641.0\n",
              "Name: length, dtype: float64"
            ]
          },
          "metadata": {},
          "execution_count": 26
        }
      ]
    },
    {
      "cell_type": "code",
      "source": [
        "# Some parameters\n",
        "np.random.seed(101)\n",
        "max_seq_length = 200\n",
        "max_nb_words = 10000\n",
        "embedding_dim = 300\n",
        "learning_rate =0.1"
      ],
      "metadata": {
        "id": "10M1BoKTT2Ap"
      },
      "execution_count": null,
      "outputs": []
    },
    {
      "cell_type": "code",
      "source": [
        "#Import the word Embeddings\n",
        "word2vec = KeyedVectors.load_word2vec_format(EMBEDDING_FILE, binary = True)"
      ],
      "metadata": {
        "id": "i9QGZaXSVZU9"
      },
      "execution_count": null,
      "outputs": []
    },
    {
      "cell_type": "code",
      "source": [
        "word2vec['Zara'].size"
      ],
      "metadata": {
        "colab": {
          "base_uri": "https://localhost:8080/"
        },
        "id": "xNQ-rijuVZYE",
        "outputId": "e1edd5f3-b256-4298-c2a4-2aff75f53ace"
      },
      "execution_count": null,
      "outputs": [
        {
          "output_type": "execute_result",
          "data": {
            "text/plain": [
              "300"
            ]
          },
          "metadata": {},
          "execution_count": 29
        }
      ]
    },
    {
      "cell_type": "code",
      "source": [
        "# Let's clean the text\n",
        "# remove punk\n",
        "#remove hashtags and emojies and urls\n",
        "#for missing values null_idx = df.dropna(axis=0 , inplace = true)\n",
        "def clean_tweets(tweets):\n",
        "  cleaned=[]\n",
        "  for tweet in tweets:\n",
        "    tweet = ' '.join(re.sub('(#[0-9A-Za-z]+)',' ',tweet).split())\n",
        "    tweet = ' '.join(re.sub('([^0-9a-zA-Z \\t])',' ',tweet).split())\n",
        "    tweet_token = nltk.word_tokenize(tweet)\n",
        "    tweet_nostop = [word for word in tweet_token if word.lower() not in stopwords.words('english')]\n",
        "    tweet = ' '.join(tweet_nostop)\n",
        "    #tweet = PorterStemmer().stem(tweet)\n",
        "    cleaned.append(tweet)\n",
        "  return cleaned\n",
        "\n",
        "\n"
      ],
      "metadata": {
        "id": "_I8tg8dyVZc5"
      },
      "execution_count": null,
      "outputs": []
    },
    {
      "cell_type": "code",
      "source": [
        "clean_tweets([\"I'm a girl in US living alone.\"])"
      ],
      "metadata": {
        "colab": {
          "base_uri": "https://localhost:8080/"
        },
        "id": "bA2dOz70VZgn",
        "outputId": "6b27fe58-e51d-4f00-afd5-54732e84db3c"
      },
      "execution_count": null,
      "outputs": [
        {
          "output_type": "execute_result",
          "data": {
            "text/plain": [
              "['girl US living alone']"
            ]
          },
          "metadata": {},
          "execution_count": 31
        }
      ]
    },
    {
      "cell_type": "code",
      "source": [
        "# Lets apply it to our data\n",
        "TWEETS_arr = [tweet for tweet in TWEETS['text']]\n",
        "X = clean_tweets(TWEETS_arr)"
      ],
      "metadata": {
        "id": "s97GosZYVZmm"
      },
      "execution_count": null,
      "outputs": []
    },
    {
      "cell_type": "code",
      "source": [
        "len(X)"
      ],
      "metadata": {
        "colab": {
          "base_uri": "https://localhost:8080/"
        },
        "id": "KjhRCBNGgKGo",
        "outputId": "89c03d64-917a-4373-e4c5-43f5ab772160"
      },
      "execution_count": null,
      "outputs": [
        {
          "output_type": "execute_result",
          "data": {
            "text/plain": [
              "5000"
            ]
          },
          "metadata": {},
          "execution_count": 33
        }
      ]
    },
    {
      "cell_type": "code",
      "source": [
        "tokenizer = Tokenizer(max_nb_words)\n",
        "tokenizer.fit_on_texts(X)"
      ],
      "metadata": {
        "id": "W_fDH1BGf0D7"
      },
      "execution_count": null,
      "outputs": []
    },
    {
      "cell_type": "code",
      "source": [
        "# now convert the tweets into vecotrs of numbers\n",
        "X_vec = tokenizer.texts_to_sequences(X)"
      ],
      "metadata": {
        "id": "Sp02W70OhcRs"
      },
      "execution_count": null,
      "outputs": []
    },
    {
      "cell_type": "code",
      "source": [
        "# let's see how many words we tokenized to\n",
        "word_index = tokenizer.word_index\n",
        "len(word_index)"
      ],
      "metadata": {
        "colab": {
          "base_uri": "https://localhost:8080/"
        },
        "id": "Pcgipek5jFc5",
        "outputId": "de36d8a9-f575-4e49-efad-9dcf07b3d86d"
      },
      "execution_count": null,
      "outputs": [
        {
          "output_type": "execute_result",
          "data": {
            "text/plain": [
              "19462"
            ]
          },
          "metadata": {},
          "execution_count": 36
        }
      ]
    },
    {
      "cell_type": "code",
      "source": [
        "X_vec[1] # so now element 1 is a vector\n",
        "# now X is an array of 5000 vectors each representing numbers"
      ],
      "metadata": {
        "colab": {
          "base_uri": "https://localhost:8080/"
        },
        "id": "VojNbb3Xh8dQ",
        "outputId": "1e61d6cd-26e5-4e74-b3c5-e8aed40fe16b"
      },
      "execution_count": null,
      "outputs": [
        {
          "output_type": "execute_result",
          "data": {
            "text/plain": [
              "[356, 7, 2835, 5055, 338, 24, 4, 1722, 5, 13, 30, 713, 1310]"
            ]
          },
          "metadata": {},
          "execution_count": 37
        }
      ]
    },
    {
      "cell_type": "code",
      "source": [
        "# Create the input to the CNN mode so we pad\n",
        "X_data = pad_sequences(X_vec , maxlen = max_seq_length)\n",
        "print(X_data.shape) # this is now each row is one example and each column is a word"
      ],
      "metadata": {
        "colab": {
          "base_uri": "https://localhost:8080/"
        },
        "id": "LdVfjLjJiBQK",
        "outputId": "21b3379e-a943-4bd7-a288-2a3f39663385"
      },
      "execution_count": null,
      "outputs": [
        {
          "output_type": "stream",
          "name": "stdout",
          "text": [
            "(5000, 200)\n"
          ]
        }
      ]
    },
    {
      "cell_type": "code",
      "source": [
        "# Let's create embeddings\n",
        "nb_words = min(max_nb_words,len(word_index))\n",
        "\n",
        "embedding_matrix = np.zeros((nb_words , embedding_dim))\n",
        "for (word , idx) in word_index.items():\n",
        "  if word in word2vec.key_to_index and idx<max_nb_words:\n",
        "    embedding_matrix[idx] = word2vec.word_vec(word)"
      ],
      "metadata": {
        "colab": {
          "base_uri": "https://localhost:8080/"
        },
        "id": "uM5cTIBHip15",
        "outputId": "0a2bbefd-214a-47ca-ef47-088e19247748"
      },
      "execution_count": null,
      "outputs": [
        {
          "output_type": "stream",
          "name": "stderr",
          "text": [
            "<ipython-input-39-d5716d6271c6>:7: DeprecationWarning: Call to deprecated `word_vec` (Use get_vector instead).\n",
            "  embedding_matrix[idx] = word2vec.word_vec(word)\n"
          ]
        }
      ]
    },
    {
      "cell_type": "code",
      "source": [
        "embedding_matrix.shape"
      ],
      "metadata": {
        "colab": {
          "base_uri": "https://localhost:8080/"
        },
        "id": "LkO_qt9JiuMp",
        "outputId": "846c2147-33b3-449b-8a4d-c040c10d2e1d"
      },
      "execution_count": null,
      "outputs": [
        {
          "output_type": "execute_result",
          "data": {
            "text/plain": [
              "(10000, 300)"
            ]
          },
          "metadata": {},
          "execution_count": 40
        }
      ]
    },
    {
      "cell_type": "code",
      "source": [
        "len(embedding_matrix)"
      ],
      "metadata": {
        "colab": {
          "base_uri": "https://localhost:8080/"
        },
        "id": "me304iQsm7sJ",
        "outputId": "db00d693-8e63-4338-ce95-e4ac7db2ee82"
      },
      "execution_count": null,
      "outputs": [
        {
          "output_type": "execute_result",
          "data": {
            "text/plain": [
              "10000"
            ]
          },
          "metadata": {},
          "execution_count": 41
        }
      ]
    },
    {
      "cell_type": "code",
      "source": [
        "# create the y labels\n",
        "y_label=TWEETS['class']\n",
        "y = []\n",
        "for item in y_label:\n",
        "  if item=='suicide':\n",
        "    y.append(1)\n",
        "  else:\n",
        "    y.append(0)"
      ],
      "metadata": {
        "id": "hjHKEYIpkfAF"
      },
      "execution_count": null,
      "outputs": []
    },
    {
      "cell_type": "code",
      "source": [
        "y = np.array(y)"
      ],
      "metadata": {
        "id": "DclnoFiClAbO"
      },
      "execution_count": null,
      "outputs": []
    },
    {
      "cell_type": "markdown",
      "source": [
        "## Let's build our attention model first\n"
      ],
      "metadata": {
        "id": "sDuVtjeFlMN9"
      }
    },
    {
      "cell_type": "code",
      "source": [
        "# the positional encoding matrix will be added to X\n",
        "import tensorflow as tf\n",
        "from tensorflow.keras import layers , Model"
      ],
      "metadata": {
        "id": "1EQ3B8MlxUlt"
      },
      "execution_count": null,
      "outputs": []
    },
    {
      "cell_type": "code",
      "source": [
        "max_seq_length = 200\n",
        "max_nb_words = 10000\n",
        "vocab_size = 10000\n",
        "embedding_dim = 300\n",
        "num_heads = 10\n",
        "num_classes = 2"
      ],
      "metadata": {
        "id": "_vUAFmG35vmr"
      },
      "execution_count": null,
      "outputs": []
    },
    {
      "cell_type": "code",
      "source": [
        "# x, _ = MultiHeadSelfAttention(d_model=embedding_dim, num_heads=num_heads)(x, x, x, mask)\n",
        "class MultiHeadSelfAttention(layers.Layer):\n",
        "  def __init__(self, d_model,num_heads):\n",
        "    super(MultiHeadSelfAttention,self).__init__()\n",
        "    self.num_heads = num_heads\n",
        "    self.d_model = d_model\n",
        "    # since the embd_dim =300 let do 10 attention heads\n",
        "    assert d_model % self.num_heads==0\n",
        "    self.head_dim = d_model // self.num_heads\n",
        "    self.wq = layers.Dense(d_model)\n",
        "    self.wk = layers.Dense(d_model)\n",
        "    self.wv = layers.Dense(d_model)\n",
        "    self.dense = layers.Dense(d_model)\n",
        "\n",
        "  def split_heads(self, x , batch_size):\n",
        "    x = tf.reshape(x ,(batch_size , -1 , self.num_heads , self.head_dim))\n",
        "    return tf.transpose(x , perm = [0,2,1,3])\n",
        "\n",
        "  def call(self , v , k , q ,mask=None):\n",
        "    batch_size = tf.shape(q)[0]\n",
        "    q = self.wq(q)\n",
        "    k = self.wk(k)\n",
        "    v = self.wv(v)\n",
        "    q = self.split_heads(q , batch_size)\n",
        "    k = self.split_heads(k , batch_size)\n",
        "    v = self.split_heads(v , batch_size)\n",
        "    s_att , att_w = self.scaled_attention(q,k,v,mask)\n",
        "    s_att = tf.transpose(s_att , perm = [0,2,1,3])\n",
        "    concat_att = tf.reshape(s_att , (batch_size , -1 , self.d_model))\n",
        "    out_put = self.dense(concat_att)\n",
        "    return out_put , att_w\n",
        "\n",
        "  def scaled_attention(self , q ,k ,v , mask=None):\n",
        "    qk = tf.matmul(q , k , transpose_b=True)\n",
        "    #dk = tf.shape(k)[-1]\n",
        "    dk = tf.cast(tf.shape(k)[-1], tf.float32)\n",
        "    scaled = qk / tf.math.sqrt(dk)\n",
        "    attention_w = tf.nn.softmax(scaled, axis=-1)\n",
        "    out_put = tf.matmul(attention_w,v)\n",
        "    return out_put , attention_w\n"
      ],
      "metadata": {
        "id": "BCDBKqSWxUq5"
      },
      "execution_count": null,
      "outputs": []
    },
    {
      "cell_type": "code",
      "source": [
        "# Implement the positional embedding mine\n",
        "#positional encoding in keras\n",
        "import tensorflow as tf\n",
        "\n",
        "class PositionalEncoding(tf.keras.layers.Layer):\n",
        "    def __init__(self, max_seq_length, embedding_dim):\n",
        "        super(PositionalEncoding, self).__init__()\n",
        "        self.max_seq_length = max_seq_length\n",
        "        self.embedding_dim = embedding_dim\n",
        "\n",
        "    def call(self, x):\n",
        "        batch_size = tf.shape(x)[0]\n",
        "        even_i = tf.range(0, self.embedding_dim, 2)\n",
        "        even_i = tf.cast(even_i, dtype=tf.float32)\n",
        "        denominator = tf.pow(10000.0, even_i /self.embedding_dim)\n",
        "        # Get the angles\n",
        "        position = tf.range(self.max_seq_length, dtype=tf.float32)[:, tf.newaxis]\n",
        "        sines = tf.math.sin(position/denominator)\n",
        "        cosines = tf.math.cos(position/denominator)\n",
        "        stacked = tf.stack([sines, cosines], axis=-1)\n",
        "        #print('Position encodings staked',stacked)\n",
        "        #print('PE shape',tf.shape(stacked))\n",
        "        PE = tf.keras.layers.Flatten()(stacked)\n",
        "        PE = tf.reshape(PE ,(batch_size,max_seq_length,-1))\n",
        "        #print('Position encodings',PE)\n",
        "        #print('PE shape',tf.shape(PE))\n",
        "        # Add positional encoding to the input embeddings\n",
        "        return PE"
      ],
      "metadata": {
        "id": "scjGuIahuH3S"
      },
      "execution_count": null,
      "outputs": []
    },
    {
      "cell_type": "code",
      "source": [
        "pe = PositionalEncoding(max_seq_length=10 , embedding_dim=6)\n",
        "pe.call()"
      ],
      "metadata": {
        "id": "AdVnIjrD7TlG",
        "colab": {
          "base_uri": "https://localhost:8080/"
        },
        "outputId": "d08c2fec-94b8-403f-b5f6-f70698e2e374"
      },
      "execution_count": null,
      "outputs": [
        {
          "output_type": "execute_result",
          "data": {
            "text/plain": [
              "<tf.Tensor: shape=(10, 6), dtype=float32, numpy=\n",
              "array([[ 0.        ,  1.        ,  0.        ,  1.        ,  0.        ,\n",
              "         1.        ],\n",
              "       [ 0.84147096,  0.5403023 ,  0.04639922,  0.998923  ,  0.00215443,\n",
              "         0.9999977 ],\n",
              "       [ 0.9092974 , -0.4161468 ,  0.09269849,  0.9956942 ,  0.00430886,\n",
              "         0.9999907 ],\n",
              "       [ 0.14112   , -0.9899925 ,  0.13879807,  0.9903207 ,  0.00646326,\n",
              "         0.99997914],\n",
              "       [-0.7568025 , -0.6536436 ,  0.18459871,  0.98281395,  0.00861763,\n",
              "         0.99996287],\n",
              "       [-0.9589243 ,  0.28366217,  0.23000169,  0.97319025,  0.01077196,\n",
              "         0.999942  ],\n",
              "       [-0.2794155 ,  0.96017027,  0.27490923,  0.9614702 ,  0.01292625,\n",
              "         0.99991643],\n",
              "       [ 0.6569866 ,  0.75390226,  0.31922463,  0.9476791 ,  0.01508047,\n",
              "         0.9998863 ],\n",
              "       [ 0.98935825, -0.14550003,  0.3628524 ,  0.9318466 ,  0.01723462,\n",
              "         0.99985147],\n",
              "       [ 0.4121185 , -0.91113025,  0.4056985 ,  0.91400695,  0.01938869,\n",
              "         0.999812  ]], dtype=float32)>"
            ]
          },
          "metadata": {},
          "execution_count": 8
        }
      ]
    },
    {
      "cell_type": "code",
      "source": [
        "# Layer normalization\n",
        "class LayerNormalization(layers.Layer):\n",
        "    def __init__(self, input_shape, epsilon=1e-6):\n",
        "        super(LayerNormalization, self).__init__()\n",
        "        self.epsilon = epsilon\n",
        "        self.gamma = self.add_weight(name='gamma', shape=(input_shape[-1],), initializer='ones', trainable=True)\n",
        "        self.beta = self.add_weight(name='beta', shape=(input_shape[-1],), initializer='zeros', trainable=True)\n",
        "\n",
        "\n",
        "    def call(self, x):\n",
        "        mean = tf.reduce_mean(x, axis=-1, keepdims=True)\n",
        "        variance = tf.reduce_mean(tf.square(x - mean), axis=-1, keepdims=True)\n",
        "        normalized = (x - mean) / tf.sqrt(variance + self.epsilon)\n",
        "        return self.gamma * normalized + self.beta"
      ],
      "metadata": {
        "id": "rAvfPUPPXjKJ"
      },
      "execution_count": null,
      "outputs": []
    },
    {
      "cell_type": "code",
      "source": [
        "\"\"\"input_dim = 1024\n",
        "d_model = 512\n",
        "num_heads = 8\n",
        "\n",
        "batch_size = 30\n",
        "sequence_length = 5\n",
        "x = tf.random.normal( (batch_size, sequence_length, input_dim) )\n",
        "\n",
        "model = MultiHeadSelfAttention(d_model, num_heads)\n",
        "out = model.call(x , x , x)"
      ],
      "metadata": {
        "colab": {
          "base_uri": "https://localhost:8080/"
        },
        "id": "7oNmkWP4k7XU",
        "outputId": "aa2a3cff-91cb-48ab-a21c-35acfe8880a5"
      },
      "execution_count": null,
      "outputs": [
        {
          "output_type": "stream",
          "name": "stdout",
          "text": [
            "v.size(): [ 30   5 512]\n",
            "v.size(): [30  8  5 64]\n",
            "s_att.size(): [30  5  8 64]\n",
            "out_put.size(): [ 30   5 512]\n"
          ]
        }
      ]
    },
    {
      "cell_type": "code",
      "source": [
        "from keras.layers import Reshape\n",
        "def create_model(max_seq_length, vocab_size, embedding_dim, num_heads, num_classes ,embedding_matrix):\n",
        "  inputs = layers.Input(shape = (max_seq_length,))\n",
        "  x = layers.Embedding(max_nb_words , embedding_dim, weights=[embedding_matrix],input_length = max_seq_length, trainable = False )(inputs)\n",
        "  #x = PositionalEncoding(max_seq_length, embedding_dim)(x)\n",
        "  x, _ = MultiHeadSelfAttention(d_model=embedding_dim, num_heads=num_heads)(x, x, x , mask=None)\n",
        "  #x_batch = x[0]\n",
        "  #x = LayerNormalization(input_shape=(embedding_dim,))(x)\n",
        "  x = layers.GlobalMaxPooling1D()(x)\n",
        "  #x = layers.GlobalAveragePooling1D()(x)\n",
        "  #x = layers.Dense(64, activation='relu')(x)\n",
        "  #x = layers.Dropout(0.5)(x)\n",
        "  #x = layers.Dropout(0.2)(x)\n",
        "  #x = Reshape((-1, embedding_dim))(x)\n",
        "  #x = layers.LSTM(64)(x)\n",
        "  #x = layers.Dropout(0.2)(x)\n",
        "  outputs = layers.Dense(1, activation='sigmoid')(x)\n",
        "  model = Model(inputs=inputs, outputs=outputs)\n",
        "  return model"
      ],
      "metadata": {
        "id": "62HymBBx5ouj"
      },
      "execution_count": null,
      "outputs": []
    },
    {
      "cell_type": "code",
      "source": [
        "def create_model(max_seq_length, vocab_size, embedding_dim, num_heads, num_classes ,embedding_matrix):\n",
        "  inputs = layers.Input(shape = (max_seq_length,))\n",
        "  x = layers.Embedding(max_nb_words , embedding_dim, weights=[embedding_matrix],input_length = max_seq_length, trainable = False )(inputs)\n",
        "  x, _ = MultiHeadSelfAttention(d_model=embedding_dim, num_heads=num_heads)(x, x, x , mask=None)\n",
        "  x = layers.GlobalMaxPooling1D()(x)\n",
        "  outputs = layers.Dense(1, activation='sigmoid')(x)\n",
        "  model = Model(inputs=inputs, outputs=outputs)\n",
        "  return model"
      ],
      "metadata": {
        "id": "hIQWMvfu9INd"
      },
      "execution_count": null,
      "outputs": []
    },
    {
      "cell_type": "code",
      "source": [
        "model = create_model(max_seq_length, vocab_size, embedding_dim, num_heads, num_classes,embedding_matrix)\n",
        "model.summary()"
      ],
      "metadata": {
        "colab": {
          "base_uri": "https://localhost:8080/"
        },
        "id": "Mxr0UdzNBNGr",
        "outputId": "a97443c8-4a00-4299-d924-36dd1ee2fa3d"
      },
      "execution_count": null,
      "outputs": [
        {
          "output_type": "stream",
          "name": "stdout",
          "text": [
            "Model: \"model_4\"\n",
            "__________________________________________________________________________________________________\n",
            " Layer (type)                Output Shape                 Param #   Connected to                  \n",
            "==================================================================================================\n",
            " input_27 (InputLayer)       [(None, 200)]                0         []                            \n",
            "                                                                                                  \n",
            " embedding_26 (Embedding)    (None, 200, 300)             3000000   ['input_27[0][0]']            \n",
            "                                                                                                  \n",
            " multi_head_self_attention_  ((None, None, 300),          361200    ['embedding_26[0][0]',        \n",
            " 22 (MultiHeadSelfAttention   (None, 10, None, None))                'embedding_26[0][0]',        \n",
            " )                                                                   'embedding_26[0][0]']        \n",
            "                                                                                                  \n",
            " global_max_pooling1d_2 (Gl  (None, 300)                  0         ['multi_head_self_attention_22\n",
            " obalMaxPooling1D)                                                  [0][0]']                      \n",
            "                                                                                                  \n",
            " dense_98 (Dense)            (None, 1)                    301       ['global_max_pooling1d_2[0][0]\n",
            "                                                                    ']                            \n",
            "                                                                                                  \n",
            "==================================================================================================\n",
            "Total params: 3361501 (12.82 MB)\n",
            "Trainable params: 361501 (1.38 MB)\n",
            "Non-trainable params: 3000000 (11.44 MB)\n",
            "__________________________________________________________________________________________________\n"
          ]
        }
      ]
    },
    {
      "cell_type": "code",
      "source": [
        "# train , 0.8 , dev 0.1 test 0.1\n",
        "X_train , X_temp , y_train , y_temp = train_test_split(X_data, y , test_size = 0.2 , random_state = 101)\n",
        "\n",
        "X_val , X_test  , y_val , y_test = train_test_split(X_temp , y_temp , test_size = 0.5 , random_state = 101)"
      ],
      "metadata": {
        "id": "OUEba2WNlLo9"
      },
      "execution_count": null,
      "outputs": []
    },
    {
      "cell_type": "markdown",
      "source": [
        "### Wandb"
      ],
      "metadata": {
        "id": "-te2ssn_lecG"
      }
    },
    {
      "cell_type": "code",
      "source": [
        "#pip install wandb"
      ],
      "metadata": {
        "colab": {
          "base_uri": "https://localhost:8080/"
        },
        "id": "S-7cIT6olkWi",
        "outputId": "53e34e0f-e520-4a82-ae17-52d9128388b6"
      },
      "execution_count": null,
      "outputs": [
        {
          "output_type": "stream",
          "name": "stdout",
          "text": [
            "Requirement already satisfied: wandb in /usr/local/lib/python3.10/dist-packages (0.16.6)\n",
            "Requirement already satisfied: Click!=8.0.0,>=7.1 in /usr/local/lib/python3.10/dist-packages (from wandb) (8.1.7)\n",
            "Requirement already satisfied: GitPython!=3.1.29,>=1.0.0 in /usr/local/lib/python3.10/dist-packages (from wandb) (3.1.43)\n",
            "Requirement already satisfied: requests<3,>=2.0.0 in /usr/local/lib/python3.10/dist-packages (from wandb) (2.31.0)\n",
            "Requirement already satisfied: psutil>=5.0.0 in /usr/local/lib/python3.10/dist-packages (from wandb) (5.9.5)\n",
            "Requirement already satisfied: sentry-sdk>=1.0.0 in /usr/local/lib/python3.10/dist-packages (from wandb) (1.45.0)\n",
            "Requirement already satisfied: docker-pycreds>=0.4.0 in /usr/local/lib/python3.10/dist-packages (from wandb) (0.4.0)\n",
            "Requirement already satisfied: PyYAML in /usr/local/lib/python3.10/dist-packages (from wandb) (6.0.1)\n",
            "Requirement already satisfied: setproctitle in /usr/local/lib/python3.10/dist-packages (from wandb) (1.3.3)\n",
            "Requirement already satisfied: setuptools in /usr/local/lib/python3.10/dist-packages (from wandb) (67.7.2)\n",
            "Requirement already satisfied: appdirs>=1.4.3 in /usr/local/lib/python3.10/dist-packages (from wandb) (1.4.4)\n",
            "Requirement already satisfied: protobuf!=4.21.0,<5,>=3.19.0 in /usr/local/lib/python3.10/dist-packages (from wandb) (3.20.3)\n",
            "Requirement already satisfied: six>=1.4.0 in /usr/local/lib/python3.10/dist-packages (from docker-pycreds>=0.4.0->wandb) (1.16.0)\n",
            "Requirement already satisfied: gitdb<5,>=4.0.1 in /usr/local/lib/python3.10/dist-packages (from GitPython!=3.1.29,>=1.0.0->wandb) (4.0.11)\n",
            "Requirement already satisfied: charset-normalizer<4,>=2 in /usr/local/lib/python3.10/dist-packages (from requests<3,>=2.0.0->wandb) (3.3.2)\n",
            "Requirement already satisfied: idna<4,>=2.5 in /usr/local/lib/python3.10/dist-packages (from requests<3,>=2.0.0->wandb) (3.6)\n",
            "Requirement already satisfied: urllib3<3,>=1.21.1 in /usr/local/lib/python3.10/dist-packages (from requests<3,>=2.0.0->wandb) (2.0.7)\n",
            "Requirement already satisfied: certifi>=2017.4.17 in /usr/local/lib/python3.10/dist-packages (from requests<3,>=2.0.0->wandb) (2024.2.2)\n",
            "Requirement already satisfied: smmap<6,>=3.0.1 in /usr/local/lib/python3.10/dist-packages (from gitdb<5,>=4.0.1->GitPython!=3.1.29,>=1.0.0->wandb) (5.0.1)\n"
          ]
        }
      ]
    },
    {
      "cell_type": "code",
      "source": [
        "import wandb\n",
        "wandb.login()"
      ],
      "metadata": {
        "colab": {
          "base_uri": "https://localhost:8080/"
        },
        "id": "c8rbbXgzldeF",
        "outputId": "6e9e87fc-6397-431c-bdbf-7cba1eb5eeb4"
      },
      "execution_count": null,
      "outputs": [
        {
          "output_type": "stream",
          "name": "stderr",
          "text": [
            "\u001b[34m\u001b[1mwandb\u001b[0m: \u001b[33mWARNING\u001b[0m Calling wandb.login() after wandb.init() has no effect.\n"
          ]
        },
        {
          "output_type": "execute_result",
          "data": {
            "text/plain": [
              "True"
            ]
          },
          "metadata": {},
          "execution_count": 157
        }
      ]
    },
    {
      "cell_type": "code",
      "source": [
        "from wandb.keras import WandbCallback\n",
        "\n",
        "wandb.init(project='Depression_detection_attention2', entity='zahra_amini')"
      ],
      "metadata": {
        "colab": {
          "base_uri": "https://localhost:8080/",
          "height": 477,
          "referenced_widgets": [
            "6f2d2a2eb79c49a2a5af7aa86190a5df",
            "ccb95679ed82407ba09bebf88bd009c2",
            "17dd961416654e51a93e2b7fd0c08c5d",
            "34ed39a50cb24cea990702541b3931f3",
            "440c5d8236bd4d1bb03d8722e5fb787f",
            "6268b52414f94802b7f5f5630525ceaa",
            "be07985e157c4828897991d7130194f8",
            "5873da7b006e44549da5d86e32128e47"
          ]
        },
        "id": "ATL36uNVmHaz",
        "outputId": "71e785bf-0221-42a2-ac5b-35082b6d87c5"
      },
      "execution_count": null,
      "outputs": [
        {
          "output_type": "display_data",
          "data": {
            "text/plain": [
              "<IPython.core.display.HTML object>"
            ],
            "text/html": [
              "Finishing last run (ID:fedi5sz6) before initializing another..."
            ]
          },
          "metadata": {}
        },
        {
          "output_type": "display_data",
          "data": {
            "text/plain": [
              "VBox(children=(Label(value='31.666 MB of 31.666 MB uploaded (0.015 MB deduped)\\r'), FloatProgress(value=1.0, m…"
            ],
            "application/vnd.jupyter.widget-view+json": {
              "version_major": 2,
              "version_minor": 0,
              "model_id": "6f2d2a2eb79c49a2a5af7aa86190a5df"
            }
          },
          "metadata": {}
        },
        {
          "output_type": "display_data",
          "data": {
            "text/plain": [
              "<IPython.core.display.HTML object>"
            ],
            "text/html": [
              "<style>\n",
              "    table.wandb td:nth-child(1) { padding: 0 10px; text-align: left ; width: auto;} td:nth-child(2) {text-align: left ; width: 100%}\n",
              "    .wandb-row { display: flex; flex-direction: row; flex-wrap: wrap; justify-content: flex-start; width: 100% }\n",
              "    .wandb-col { display: flex; flex-direction: column; flex-basis: 100%; flex: 1; padding: 10px; }\n",
              "    </style>\n",
              "<div class=\"wandb-row\"><div class=\"wandb-col\"><h3>Run history:</h3><br/><table class=\"wandb\"><tr><td>acc</td><td>▁▇▆█▄</td></tr><tr><td>epoch</td><td>▁▃▅▆█</td></tr><tr><td>loss</td><td>█▁▁▁▁</td></tr><tr><td>val_acc</td><td>█▃▆▃▁</td></tr><tr><td>val_loss</td><td>▂▃▁▁█</td></tr></table><br/></div><div class=\"wandb-col\"><h3>Run summary:</h3><br/><table class=\"wandb\"><tr><td>acc</td><td>0.60175</td></tr><tr><td>best_epoch</td><td>2</td></tr><tr><td>best_val_loss</td><td>0.61436</td></tr><tr><td>epoch</td><td>4</td></tr><tr><td>loss</td><td>2.6167</td></tr><tr><td>val_acc</td><td>0.498</td></tr><tr><td>val_loss</td><td>9.00243</td></tr></table><br/></div></div>"
            ]
          },
          "metadata": {}
        },
        {
          "output_type": "display_data",
          "data": {
            "text/plain": [
              "<IPython.core.display.HTML object>"
            ],
            "text/html": [
              " View run <strong style=\"color:#cdcd00\">sunny-snow-1</strong> at: <a href='https://wandb.ai/zahra_amini/Depression_detection_attention/runs/fedi5sz6' target=\"_blank\">https://wandb.ai/zahra_amini/Depression_detection_attention/runs/fedi5sz6</a><br/> View project at: <a href='https://wandb.ai/zahra_amini/Depression_detection_attention' target=\"_blank\">https://wandb.ai/zahra_amini/Depression_detection_attention</a><br/>Synced 5 W&B file(s), 1 media file(s), 10 artifact file(s) and 1 other file(s)"
            ]
          },
          "metadata": {}
        },
        {
          "output_type": "display_data",
          "data": {
            "text/plain": [
              "<IPython.core.display.HTML object>"
            ],
            "text/html": [
              "Find logs at: <code>./wandb/run-20240414_215241-fedi5sz6/logs</code>"
            ]
          },
          "metadata": {}
        },
        {
          "output_type": "display_data",
          "data": {
            "text/plain": [
              "<IPython.core.display.HTML object>"
            ],
            "text/html": [
              "Successfully finished last run (ID:fedi5sz6). Initializing new run:<br/>"
            ]
          },
          "metadata": {}
        },
        {
          "output_type": "display_data",
          "data": {
            "text/plain": [
              "<IPython.core.display.HTML object>"
            ],
            "text/html": [
              "Tracking run with wandb version 0.16.6"
            ]
          },
          "metadata": {}
        },
        {
          "output_type": "display_data",
          "data": {
            "text/plain": [
              "<IPython.core.display.HTML object>"
            ],
            "text/html": [
              "Run data is saved locally in <code>/content/wandb/run-20240414_222359-w3ilalsh</code>"
            ]
          },
          "metadata": {}
        },
        {
          "output_type": "display_data",
          "data": {
            "text/plain": [
              "<IPython.core.display.HTML object>"
            ],
            "text/html": [
              "Syncing run <strong><a href='https://wandb.ai/zahra_amini/Depression_detection_attention2/runs/w3ilalsh' target=\"_blank\">gallant-vortex-1</a></strong> to <a href='https://wandb.ai/zahra_amini/Depression_detection_attention2' target=\"_blank\">Weights & Biases</a> (<a href='https://wandb.me/run' target=\"_blank\">docs</a>)<br/>"
            ]
          },
          "metadata": {}
        },
        {
          "output_type": "display_data",
          "data": {
            "text/plain": [
              "<IPython.core.display.HTML object>"
            ],
            "text/html": [
              " View project at <a href='https://wandb.ai/zahra_amini/Depression_detection_attention2' target=\"_blank\">https://wandb.ai/zahra_amini/Depression_detection_attention2</a>"
            ]
          },
          "metadata": {}
        },
        {
          "output_type": "display_data",
          "data": {
            "text/plain": [
              "<IPython.core.display.HTML object>"
            ],
            "text/html": [
              " View run at <a href='https://wandb.ai/zahra_amini/Depression_detection_attention2/runs/w3ilalsh' target=\"_blank\">https://wandb.ai/zahra_amini/Depression_detection_attention2/runs/w3ilalsh</a>"
            ]
          },
          "metadata": {}
        },
        {
          "output_type": "execute_result",
          "data": {
            "text/html": [
              "<button onClick=\"this.nextSibling.style.display='block';this.style.display='none';\">Display W&B run</button><iframe src='https://wandb.ai/zahra_amini/Depression_detection_attention2/runs/w3ilalsh?jupyter=true' style='border:none;width:100%;height:420px;display:none;'></iframe>"
            ],
            "text/plain": [
              "<wandb.sdk.wandb_run.Run at 0x7f3c452a3af0>"
            ]
          },
          "metadata": {},
          "execution_count": 158
        }
      ]
    },
    {
      "cell_type": "markdown",
      "source": [
        "Build the model and then train"
      ],
      "metadata": {
        "id": "FGzSdnZvl9Yl"
      }
    },
    {
      "cell_type": "code",
      "source": [
        "from tensorflow.keras.optimizers import Adam\n",
        "learning_rate = 0.1\n",
        "optimizer = Adam(learning_rate = learning_rate)\n",
        "model.compile(loss='binary_crossentropy', optimizer = 'adam' , metrics=['acc'])\n",
        "model.summary()"
      ],
      "metadata": {
        "colab": {
          "base_uri": "https://localhost:8080/"
        },
        "id": "V-xmlIAGlBx-",
        "outputId": "10ad7143-acac-4c6a-e103-06ade5559533"
      },
      "execution_count": null,
      "outputs": [
        {
          "output_type": "stream",
          "name": "stdout",
          "text": [
            "Model: \"model_4\"\n",
            "__________________________________________________________________________________________________\n",
            " Layer (type)                Output Shape                 Param #   Connected to                  \n",
            "==================================================================================================\n",
            " input_27 (InputLayer)       [(None, 200)]                0         []                            \n",
            "                                                                                                  \n",
            " embedding_26 (Embedding)    (None, 200, 300)             3000000   ['input_27[0][0]']            \n",
            "                                                                                                  \n",
            " multi_head_self_attention_  ((None, None, 300),          361200    ['embedding_26[0][0]',        \n",
            " 22 (MultiHeadSelfAttention   (None, 10, None, None))                'embedding_26[0][0]',        \n",
            " )                                                                   'embedding_26[0][0]']        \n",
            "                                                                                                  \n",
            " global_max_pooling1d_2 (Gl  (None, 300)                  0         ['multi_head_self_attention_22\n",
            " obalMaxPooling1D)                                                  [0][0]']                      \n",
            "                                                                                                  \n",
            " dense_98 (Dense)            (None, 1)                    301       ['global_max_pooling1d_2[0][0]\n",
            "                                                                    ']                            \n",
            "                                                                                                  \n",
            "==================================================================================================\n",
            "Total params: 3361501 (12.82 MB)\n",
            "Trainable params: 361501 (1.38 MB)\n",
            "Non-trainable params: 3000000 (11.44 MB)\n",
            "__________________________________________________________________________________________________\n"
          ]
        }
      ]
    },
    {
      "cell_type": "code",
      "source": [
        "early_stop = EarlyStopping(monitor = 'val_loss' , patience = 3)\n",
        "hist = model.fit(X_train,y_train, validation_data = (X_val ,y_val),epochs = 5 , batch_size = 40, shuffle = True ,callbacks=[early_stop , WandbCallback()])"
      ],
      "metadata": {
        "colab": {
          "base_uri": "https://localhost:8080/"
        },
        "id": "BvaDk_tuoUPX",
        "outputId": "fb09098c-e74c-42e7-a226-90e11adcf5a5"
      },
      "execution_count": null,
      "outputs": [
        {
          "output_type": "stream",
          "name": "stdout",
          "text": [
            "Epoch 1/5\n",
            "100/100 [==============================] - ETA: 0s - loss: 0.3909 - acc: 0.8177"
          ]
        },
        {
          "output_type": "stream",
          "name": "stderr",
          "text": [
            "/usr/local/lib/python3.10/dist-packages/keras/src/engine/training.py:3103: UserWarning: You are saving your model as an HDF5 file via `model.save()`. This file format is considered legacy. We recommend using instead the native Keras format, e.g. `model.save('my_model.keras')`.\n",
            "  saving_api.save_model(\n",
            "\u001b[34m\u001b[1mwandb\u001b[0m: Adding directory to artifact (/content/wandb/run-20240414_222359-w3ilalsh/files/model-best)... Done. 0.1s\n"
          ]
        },
        {
          "output_type": "stream",
          "name": "stdout",
          "text": [
            "\b\b\b\b\b\b\b\b\b\b\b\b\b\b\b\b\b\b\b\b\b\b\b\b\b\b\b\b\b\b\b\b\b\b\b\b\b\b\b\b\b\b\b\b\b\b\b\b\b\b\b\b\b\b\b\b\b\b\b\b\b\b\b\b\b\b\b\b\b\b\b\b\b\b\b\b\b\b\b\r100/100 [==============================] - 76s 747ms/step - loss: 0.3909 - acc: 0.8177 - val_loss: 0.3126 - val_acc: 0.8980\n",
            "Epoch 2/5\n",
            "100/100 [==============================] - ETA: 0s - loss: 0.2846 - acc: 0.8863"
          ]
        },
        {
          "output_type": "stream",
          "name": "stderr",
          "text": [
            "/usr/local/lib/python3.10/dist-packages/keras/src/engine/training.py:3103: UserWarning: You are saving your model as an HDF5 file via `model.save()`. This file format is considered legacy. We recommend using instead the native Keras format, e.g. `model.save('my_model.keras')`.\n",
            "  saving_api.save_model(\n",
            "\u001b[34m\u001b[1mwandb\u001b[0m: Adding directory to artifact (/content/wandb/run-20240414_222359-w3ilalsh/files/model-best)... Done. 0.1s\n"
          ]
        },
        {
          "output_type": "stream",
          "name": "stdout",
          "text": [
            "\b\b\b\b\b\b\b\b\b\b\b\b\b\b\b\b\b\b\b\b\b\b\b\b\b\b\b\b\b\b\b\b\b\b\b\b\b\b\b\b\b\b\b\b\b\b\b\b\b\b\b\b\b\b\b\b\b\b\b\b\b\b\b\b\b\b\b\b\b\b\b\b\b\b\b\b\b\b\b\r100/100 [==============================] - 72s 716ms/step - loss: 0.2846 - acc: 0.8863 - val_loss: 0.2786 - val_acc: 0.9120\n",
            "Epoch 3/5\n",
            "100/100 [==============================] - 72s 720ms/step - loss: 0.2670 - acc: 0.9010 - val_loss: 0.2900 - val_acc: 0.8980\n",
            "Epoch 4/5\n",
            "100/100 [==============================] - ETA: 0s - loss: 0.2401 - acc: 0.9087"
          ]
        },
        {
          "output_type": "stream",
          "name": "stderr",
          "text": [
            "/usr/local/lib/python3.10/dist-packages/keras/src/engine/training.py:3103: UserWarning: You are saving your model as an HDF5 file via `model.save()`. This file format is considered legacy. We recommend using instead the native Keras format, e.g. `model.save('my_model.keras')`.\n",
            "  saving_api.save_model(\n",
            "\u001b[34m\u001b[1mwandb\u001b[0m: Adding directory to artifact (/content/wandb/run-20240414_222359-w3ilalsh/files/model-best)... Done. 0.1s\n"
          ]
        },
        {
          "output_type": "stream",
          "name": "stdout",
          "text": [
            "\b\b\b\b\b\b\b\b\b\b\b\b\b\b\b\b\b\b\b\b\b\b\b\b\b\b\b\b\b\b\b\b\b\b\b\b\b\b\b\b\b\b\b\b\b\b\b\b\b\b\b\b\b\b\b\b\b\b\b\b\b\b\b\b\b\b\b\b\b\b\b\b\b\b\b\b\b\b\b\r100/100 [==============================] - 74s 738ms/step - loss: 0.2401 - acc: 0.9087 - val_loss: 0.2481 - val_acc: 0.9280\n",
            "Epoch 5/5\n",
            "100/100 [==============================] - 72s 716ms/step - loss: 0.2063 - acc: 0.9243 - val_loss: 0.2658 - val_acc: 0.9060\n"
          ]
        }
      ]
    },
    {
      "cell_type": "code",
      "source": [
        "# Save the model weights and load them to train more\n",
        "plt.plot(hist.history['acc'])\n",
        "plt.plot(hist.history['val_acc'])\n",
        "plt.title('Model Acuuracy')\n",
        "plt.ylabel('Accuracy')\n",
        "plt.xlabel('Epochs')\n",
        "plt.legend(['Trains','Val'])\n",
        "plt.show()"
      ],
      "metadata": {
        "colab": {
          "base_uri": "https://localhost:8080/",
          "height": 472
        },
        "id": "xhhqnTenGXuW",
        "outputId": "ffcd315e-c24e-47dd-914b-56cf5cfaefa3"
      },
      "execution_count": null,
      "outputs": [
        {
          "output_type": "display_data",
          "data": {
            "text/plain": [
              "<Figure size 640x480 with 1 Axes>"
            ],
            "image/png": "[encoded data removed]"
          },
          "metadata": {}
        }
      ]
    },
    {
      "cell_type": "code",
      "source": [
        "predictions = model.predict(X_test)\n",
        "pred_binary = (predictions > 0.5).astype(int)"
      ],
      "metadata": {
        "colab": {
          "base_uri": "https://localhost:8080/"
        },
        "id": "NNqDc_WQGXxu",
        "outputId": "16a5597c-374b-4f81-82b2-6a934dd4d778"
      },
      "execution_count": null,
      "outputs": [
        {
          "output_type": "stream",
          "name": "stdout",
          "text": [
            "16/16 [==============================] - 4s 208ms/step\n"
          ]
        }
      ]
    },
    {
      "cell_type": "code",
      "source": [
        "from sklearn.metrics import classification_report , confusion_matrix\n",
        "print(confusion_matrix(y_test , pred_binary))\n",
        "print(classification_report(y_test,pred_binary))"
      ],
      "metadata": {
        "colab": {
          "base_uri": "https://localhost:8080/"
        },
        "id": "YYiEs_DWGX0m",
        "outputId": "4977681b-1e38-47d9-cc61-0614a56e1de8"
      },
      "execution_count": null,
      "outputs": [
        {
          "output_type": "stream",
          "name": "stdout",
          "text": [
            "[[234  19]\n",
            " [ 31 216]]\n",
            "              precision    recall  f1-score   support\n",
            "\n",
            "           0       0.88      0.92      0.90       253\n",
            "           1       0.92      0.87      0.90       247\n",
            "\n",
            "    accuracy                           0.90       500\n",
            "   macro avg       0.90      0.90      0.90       500\n",
            "weighted avg       0.90      0.90      0.90       500\n",
            "\n"
          ]
        }
      ]
    },
    {
      "cell_type": "code",
      "source": [],
      "metadata": {
        "id": "-xVjJnhSGX27"
      },
      "execution_count": null,
      "outputs": []
    },
    {
      "cell_type": "code",
      "source": [],
      "metadata": {
        "id": "e8e1QqdStSVu"
      },
      "execution_count": null,
      "outputs": []
    }
  ]
}